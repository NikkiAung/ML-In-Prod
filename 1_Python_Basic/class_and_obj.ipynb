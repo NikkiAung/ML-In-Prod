{
 "cells": [
  {
   "cell_type": "code",
   "execution_count": 2,
   "metadata": {},
   "outputs": [],
   "source": [
    "from model import Categories,Item,SaleItem\n",
    "\n",
    "cat1 = Categories('03-06-2024','cat_001','Local coffee')\n",
    "\n",
    "i1 = Item ('12-06-2024','i_001','super_coffee',\"0000\",3900,3500,cat1)\n",
    "i2 = Item ('17-06-2024','i_002','sunday_coffee',\"0000\",3450,3000,cat1)\n",
    "i3 = Item ('01-06-2024','i_003','hsu_coffee',\"0000\",5450,5200,cat1)"
   ]
  },
  {
   "cell_type": "code",
   "execution_count": 3,
   "metadata": {},
   "outputs": [],
   "source": [
    "from model import SaleItem\n",
    "\n",
    "\n",
    "sale1=  SaleItem(customer_id='CU_000001',created_date='15-06-2024',item=i1 )\n",
    "sale2=  SaleItem(customer_id='CU_000001',created_date='21-06-2024',item=i1 )\n",
    "sale3=  SaleItem(customer_id='CU_000001',created_date='21-06-2024',item=i2 )\n",
    "sale4=  SaleItem(customer_id='CU_000001',created_date='21-06-2024',item=i3 )\n",
    "sale5=  SaleItem(customer_id='CU_000001',created_date='01-07-2024',item=i2 )\n",
    "sale6=  SaleItem(customer_id='CU_000001',created_date='01-07-2024',item=i1 )\n",
    "sale7=  SaleItem(customer_id='CU_000001',created_date='10-07-2024',item=i3 )\n",
    "sale8=  SaleItem(customer_id='CU_000001',created_date='10-07-2024',item=i2 )\n",
    "sale9=  SaleItem(customer_id='CU_000001',created_date='10-07-2024',item=i3 )\n",
    "total_sale = [sale1,sale2,sale3,sale4,sale5,sale6,sale7,sale8,sale9]"
   ]
  },
  {
   "cell_type": "code",
   "execution_count": 4,
   "metadata": {},
   "outputs": [
    {
     "name": "stdout",
     "output_type": "stream",
     "text": [
      "Collecting pandas\n",
      "  Downloading pandas-2.2.3-cp310-cp310-macosx_11_0_arm64.whl.metadata (89 kB)\n",
      "Collecting numpy>=1.22.4 (from pandas)\n",
      "  Downloading numpy-2.2.1-cp310-cp310-macosx_14_0_arm64.whl.metadata (62 kB)\n",
      "Requirement already satisfied: python-dateutil>=2.8.2 in /opt/anaconda3/envs/dev_env/lib/python3.10/site-packages (from pandas) (2.9.0.post0)\n",
      "Collecting pytz>=2020.1 (from pandas)\n",
      "  Using cached pytz-2024.2-py2.py3-none-any.whl.metadata (22 kB)\n",
      "Collecting tzdata>=2022.7 (from pandas)\n",
      "  Using cached tzdata-2024.2-py2.py3-none-any.whl.metadata (1.4 kB)\n",
      "Requirement already satisfied: six>=1.5 in /opt/anaconda3/envs/dev_env/lib/python3.10/site-packages (from python-dateutil>=2.8.2->pandas) (1.17.0)\n",
      "Downloading pandas-2.2.3-cp310-cp310-macosx_11_0_arm64.whl (11.3 MB)\n",
      "\u001b[2K   \u001b[90m━━━━━━━━━━━━━━━━━━━━━━━━━━━━━━━━━━━━━━━━\u001b[0m \u001b[32m11.3/11.3 MB\u001b[0m \u001b[31m26.8 MB/s\u001b[0m eta \u001b[36m0:00:00\u001b[0m00:01\u001b[0m0:01\u001b[0m\n",
      "\u001b[?25hDownloading numpy-2.2.1-cp310-cp310-macosx_14_0_arm64.whl (5.4 MB)\n",
      "\u001b[2K   \u001b[90m━━━━━━━━━━━━━━━━━━━━━━━━━━━━━━━━━━━━━━━━\u001b[0m \u001b[32m5.4/5.4 MB\u001b[0m \u001b[31m23.4 MB/s\u001b[0m eta \u001b[36m0:00:00\u001b[0ma \u001b[36m0:00:01\u001b[0m\n",
      "\u001b[?25hUsing cached pytz-2024.2-py2.py3-none-any.whl (508 kB)\n",
      "Using cached tzdata-2024.2-py2.py3-none-any.whl (346 kB)\n",
      "Installing collected packages: pytz, tzdata, numpy, pandas\n",
      "Successfully installed numpy-2.2.1 pandas-2.2.3 pytz-2024.2 tzdata-2024.2\n"
     ]
    }
   ],
   "source": [
    "!pip install pandas"
   ]
  },
  {
   "cell_type": "code",
   "execution_count": 5,
   "metadata": {},
   "outputs": [
    {
     "data": {
      "text/html": [
       "<div>\n",
       "<style scoped>\n",
       "    .dataframe tbody tr th:only-of-type {\n",
       "        vertical-align: middle;\n",
       "    }\n",
       "\n",
       "    .dataframe tbody tr th {\n",
       "        vertical-align: top;\n",
       "    }\n",
       "\n",
       "    .dataframe thead th {\n",
       "        text-align: right;\n",
       "    }\n",
       "</style>\n",
       "<table border=\"1\" class=\"dataframe\">\n",
       "  <thead>\n",
       "    <tr style=\"text-align: right;\">\n",
       "      <th></th>\n",
       "      <th>created_date</th>\n",
       "      <th>item_name</th>\n",
       "      <th>profit</th>\n",
       "      <th>category_name</th>\n",
       "    </tr>\n",
       "  </thead>\n",
       "  <tbody>\n",
       "    <tr>\n",
       "      <th>0</th>\n",
       "      <td>15-06-2024</td>\n",
       "      <td>super_coffee</td>\n",
       "      <td>400</td>\n",
       "      <td>Local coffee</td>\n",
       "    </tr>\n",
       "    <tr>\n",
       "      <th>1</th>\n",
       "      <td>21-06-2024</td>\n",
       "      <td>super_coffee</td>\n",
       "      <td>400</td>\n",
       "      <td>Local coffee</td>\n",
       "    </tr>\n",
       "    <tr>\n",
       "      <th>2</th>\n",
       "      <td>21-06-2024</td>\n",
       "      <td>sunday_coffee</td>\n",
       "      <td>450</td>\n",
       "      <td>Local coffee</td>\n",
       "    </tr>\n",
       "    <tr>\n",
       "      <th>3</th>\n",
       "      <td>21-06-2024</td>\n",
       "      <td>hsu_coffee</td>\n",
       "      <td>250</td>\n",
       "      <td>Local coffee</td>\n",
       "    </tr>\n",
       "    <tr>\n",
       "      <th>4</th>\n",
       "      <td>01-07-2024</td>\n",
       "      <td>sunday_coffee</td>\n",
       "      <td>450</td>\n",
       "      <td>Local coffee</td>\n",
       "    </tr>\n",
       "    <tr>\n",
       "      <th>5</th>\n",
       "      <td>01-07-2024</td>\n",
       "      <td>super_coffee</td>\n",
       "      <td>400</td>\n",
       "      <td>Local coffee</td>\n",
       "    </tr>\n",
       "    <tr>\n",
       "      <th>6</th>\n",
       "      <td>10-07-2024</td>\n",
       "      <td>hsu_coffee</td>\n",
       "      <td>250</td>\n",
       "      <td>Local coffee</td>\n",
       "    </tr>\n",
       "    <tr>\n",
       "      <th>7</th>\n",
       "      <td>10-07-2024</td>\n",
       "      <td>sunday_coffee</td>\n",
       "      <td>450</td>\n",
       "      <td>Local coffee</td>\n",
       "    </tr>\n",
       "    <tr>\n",
       "      <th>8</th>\n",
       "      <td>10-07-2024</td>\n",
       "      <td>hsu_coffee</td>\n",
       "      <td>250</td>\n",
       "      <td>Local coffee</td>\n",
       "    </tr>\n",
       "  </tbody>\n",
       "</table>\n",
       "</div>"
      ],
      "text/plain": [
       "  created_date      item_name  profit category_name\n",
       "0   15-06-2024   super_coffee     400  Local coffee\n",
       "1   21-06-2024   super_coffee     400  Local coffee\n",
       "2   21-06-2024  sunday_coffee     450  Local coffee\n",
       "3   21-06-2024     hsu_coffee     250  Local coffee\n",
       "4   01-07-2024  sunday_coffee     450  Local coffee\n",
       "5   01-07-2024   super_coffee     400  Local coffee\n",
       "6   10-07-2024     hsu_coffee     250  Local coffee\n",
       "7   10-07-2024  sunday_coffee     450  Local coffee\n",
       "8   10-07-2024     hsu_coffee     250  Local coffee"
      ]
     },
     "execution_count": 5,
     "metadata": {},
     "output_type": "execute_result"
    }
   ],
   "source": [
    "sale_item_dict = {\n",
    "    \"created_date\" :[],\n",
    "    \"item_name\" :[],\n",
    "    \"profit\" : [],\n",
    "    \"category_name\" : []\n",
    "}\n",
    "for cur_obj in total_sale:\n",
    "    sale_item_dict[\"created_date\"].append(cur_obj.created_date)\n",
    "    sale_item_dict[\"item_name\"].append(cur_obj.item.name)\n",
    "    sale_item_dict[\"profit\"].append(cur_obj.item.getProfit())\n",
    "    sale_item_dict[\"category_name\"].append(cur_obj.item.category.name)\n",
    "\n",
    "\n",
    "import pandas as pd\n",
    "sale_item_df = pd.DataFrame(sale_item_dict)\n",
    "sale_item_df"
   ]
  },
  {
   "cell_type": "code",
   "execution_count": 6,
   "metadata": {},
   "outputs": [
    {
     "data": {
      "text/plain": [
       "created_date       15-06-2024\n",
       "item_name        super_coffee\n",
       "profit                    400\n",
       "category_name    Local coffee\n",
       "Name: 0, dtype: object"
      ]
     },
     "execution_count": 6,
     "metadata": {},
     "output_type": "execute_result"
    }
   ],
   "source": [
    "sale_item_df.iloc[0]"
   ]
  },
  {
   "cell_type": "code",
   "execution_count": 7,
   "metadata": {},
   "outputs": [
    {
     "data": {
      "text/plain": [
       "0     super_coffee\n",
       "1     super_coffee\n",
       "2    sunday_coffee\n",
       "3       hsu_coffee\n",
       "4    sunday_coffee\n",
       "5     super_coffee\n",
       "6       hsu_coffee\n",
       "7    sunday_coffee\n",
       "8       hsu_coffee\n",
       "Name: item_name, dtype: object"
      ]
     },
     "execution_count": 7,
     "metadata": {},
     "output_type": "execute_result"
    }
   ],
   "source": [
    "sale_item_df[\"item_name\"]"
   ]
  },
  {
   "cell_type": "code",
   "execution_count": 8,
   "metadata": {},
   "outputs": [
    {
     "data": {
      "text/html": [
       "<div>\n",
       "<style scoped>\n",
       "    .dataframe tbody tr th:only-of-type {\n",
       "        vertical-align: middle;\n",
       "    }\n",
       "\n",
       "    .dataframe tbody tr th {\n",
       "        vertical-align: top;\n",
       "    }\n",
       "\n",
       "    .dataframe thead th {\n",
       "        text-align: right;\n",
       "    }\n",
       "</style>\n",
       "<table border=\"1\" class=\"dataframe\">\n",
       "  <thead>\n",
       "    <tr style=\"text-align: right;\">\n",
       "      <th></th>\n",
       "      <th>created_date</th>\n",
       "      <th>item_name</th>\n",
       "      <th>profit</th>\n",
       "      <th>category_name</th>\n",
       "    </tr>\n",
       "  </thead>\n",
       "  <tbody>\n",
       "    <tr>\n",
       "      <th>0</th>\n",
       "      <td>15-06-2024</td>\n",
       "      <td>super_coffee</td>\n",
       "      <td>400</td>\n",
       "      <td>Local coffee</td>\n",
       "    </tr>\n",
       "    <tr>\n",
       "      <th>1</th>\n",
       "      <td>21-06-2024</td>\n",
       "      <td>super_coffee</td>\n",
       "      <td>400</td>\n",
       "      <td>Local coffee</td>\n",
       "    </tr>\n",
       "    <tr>\n",
       "      <th>5</th>\n",
       "      <td>01-07-2024</td>\n",
       "      <td>super_coffee</td>\n",
       "      <td>400</td>\n",
       "      <td>Local coffee</td>\n",
       "    </tr>\n",
       "  </tbody>\n",
       "</table>\n",
       "</div>"
      ],
      "text/plain": [
       "  created_date     item_name  profit category_name\n",
       "0   15-06-2024  super_coffee     400  Local coffee\n",
       "1   21-06-2024  super_coffee     400  Local coffee\n",
       "5   01-07-2024  super_coffee     400  Local coffee"
      ]
     },
     "execution_count": 8,
     "metadata": {},
     "output_type": "execute_result"
    }
   ],
   "source": [
    "sale_item_df[sale_item_df[\"item_name\"] == \"super_coffee\"]"
   ]
  },
  {
   "cell_type": "code",
   "execution_count": 17,
   "metadata": {},
   "outputs": [
    {
     "name": "stdout",
     "output_type": "stream",
     "text": [
      "{'super_coffee', 'hsu_coffee', 'sunday_coffee'}\n"
     ]
    }
   ],
   "source": [
    "dict_item_name = set(sale_item_df[\"item_name\"].to_numpy())\n",
    "print(dict_item_name)"
   ]
  },
  {
   "cell_type": "code",
   "execution_count": 18,
   "metadata": {},
   "outputs": [
    {
     "name": "stdout",
     "output_type": "stream",
     "text": [
      "  created_date     item_name  profit category_name\n",
      "0   15-06-2024  super_coffee     400  Local coffee\n",
      "1   21-06-2024  super_coffee     400  Local coffee\n",
      "5   01-07-2024  super_coffee     400  Local coffee\n",
      "  created_date   item_name  profit category_name\n",
      "3   21-06-2024  hsu_coffee     250  Local coffee\n",
      "6   10-07-2024  hsu_coffee     250  Local coffee\n",
      "8   10-07-2024  hsu_coffee     250  Local coffee\n",
      "  created_date      item_name  profit category_name\n",
      "2   21-06-2024  sunday_coffee     450  Local coffee\n",
      "4   01-07-2024  sunday_coffee     450  Local coffee\n",
      "7   10-07-2024  sunday_coffee     450  Local coffee\n"
     ]
    }
   ],
   "source": [
    "for cur_item_name in dict_item_name:\n",
    "    cur_df = sale_item_df[sale_item_df[\"item_name\"] == cur_item_name]\n",
    "    print(cur_df)"
   ]
  },
  {
   "cell_type": "code",
   "execution_count": 25,
   "metadata": {},
   "outputs": [],
   "source": [
    "import numpy as np"
   ]
  },
  {
   "cell_type": "code",
   "execution_count": 27,
   "metadata": {},
   "outputs": [
    {
     "name": "stdout",
     "output_type": "stream",
     "text": [
      "super_coffee\n",
      "['21-06-2024', '15-06-2024', '01-07-2024']\n",
      "[np.int64(400), np.int64(400), np.int64(400)]\n",
      "hsu_coffee\n",
      "['10-07-2024', '21-06-2024']\n",
      "[np.int64(500), np.int64(250)]\n",
      "sunday_coffee\n",
      "['10-07-2024', '21-06-2024', '01-07-2024']\n",
      "[np.int64(450), np.int64(450), np.int64(450)]\n"
     ]
    }
   ],
   "source": [
    "\n",
    "for cur_item_name in dict_item_name:\n",
    "    cur_df = sale_item_df[sale_item_df[\"item_name\"] == cur_item_name]\n",
    "    \n",
    "    x = list(set(cur_df[\"created_date\"].to_numpy()))\n",
    "    # ['21-06-2024', '15-06-2024', '01-07-2024']\n",
    "    # ['10-07-2024', '21-06-2024']\n",
    "    # ['10-07-2024', '21-06-2024', '01-07-2024']\n",
    "    y = []\n",
    "    for cur_x in x:\n",
    "        temp_y = cur_df[cur_df[\"created_date\"] == cur_x][\"profit\"].to_numpy()\n",
    "        y.append(np.sum(temp_y))\n",
    "    print(cur_item_name)\n",
    "    print(x)\n",
    "    print(y)\n"
   ]
  },
  {
   "cell_type": "code",
   "execution_count": 29,
   "metadata": {},
   "outputs": [
    {
     "name": "stdout",
     "output_type": "stream",
     "text": [
      "Collecting matplotlib\n",
      "  Downloading matplotlib-3.10.0-cp310-cp310-macosx_11_0_arm64.whl.metadata (11 kB)\n",
      "Collecting contourpy>=1.0.1 (from matplotlib)\n",
      "  Downloading contourpy-1.3.1-cp310-cp310-macosx_11_0_arm64.whl.metadata (5.4 kB)\n",
      "Collecting cycler>=0.10 (from matplotlib)\n",
      "  Using cached cycler-0.12.1-py3-none-any.whl.metadata (3.8 kB)\n",
      "Collecting fonttools>=4.22.0 (from matplotlib)\n",
      "  Downloading fonttools-4.55.3-cp310-cp310-macosx_10_9_universal2.whl.metadata (165 kB)\n",
      "Collecting kiwisolver>=1.3.1 (from matplotlib)\n",
      "  Downloading kiwisolver-1.4.8-cp310-cp310-macosx_11_0_arm64.whl.metadata (6.2 kB)\n",
      "Requirement already satisfied: numpy>=1.23 in /opt/anaconda3/envs/dev_env/lib/python3.10/site-packages (from matplotlib) (2.2.1)\n",
      "Requirement already satisfied: packaging>=20.0 in /opt/anaconda3/envs/dev_env/lib/python3.10/site-packages (from matplotlib) (24.2)\n",
      "Collecting pillow>=8 (from matplotlib)\n",
      "  Downloading pillow-11.1.0-cp310-cp310-macosx_11_0_arm64.whl.metadata (9.1 kB)\n",
      "Collecting pyparsing>=2.3.1 (from matplotlib)\n",
      "  Using cached pyparsing-3.2.1-py3-none-any.whl.metadata (5.0 kB)\n",
      "Requirement already satisfied: python-dateutil>=2.7 in /opt/anaconda3/envs/dev_env/lib/python3.10/site-packages (from matplotlib) (2.9.0.post0)\n",
      "Requirement already satisfied: six>=1.5 in /opt/anaconda3/envs/dev_env/lib/python3.10/site-packages (from python-dateutil>=2.7->matplotlib) (1.17.0)\n",
      "Downloading matplotlib-3.10.0-cp310-cp310-macosx_11_0_arm64.whl (8.0 MB)\n",
      "\u001b[2K   \u001b[90m━━━━━━━━━━━━━━━━━━━━━━━━━━━━━━━━━━━━━━━━\u001b[0m \u001b[32m8.0/8.0 MB\u001b[0m \u001b[31m9.9 MB/s\u001b[0m eta \u001b[36m0:00:00\u001b[0m:00:01\u001b[0m0:01\u001b[0m\n",
      "\u001b[?25hDownloading contourpy-1.3.1-cp310-cp310-macosx_11_0_arm64.whl (253 kB)\n",
      "Using cached cycler-0.12.1-py3-none-any.whl (8.3 kB)\n",
      "Downloading fonttools-4.55.3-cp310-cp310-macosx_10_9_universal2.whl (2.8 MB)\n",
      "\u001b[2K   \u001b[90m━━━━━━━━━━━━━━━━━━━━━━━━━━━━━━━━━━━━━━━━\u001b[0m \u001b[32m2.8/2.8 MB\u001b[0m \u001b[31m23.7 MB/s\u001b[0m eta \u001b[36m0:00:00\u001b[0m\n",
      "\u001b[?25hDownloading kiwisolver-1.4.8-cp310-cp310-macosx_11_0_arm64.whl (65 kB)\n",
      "Downloading pillow-11.1.0-cp310-cp310-macosx_11_0_arm64.whl (3.1 MB)\n",
      "\u001b[2K   \u001b[90m━━━━━━━━━━━━━━━━━━━━━━━━━━━━━━━━━━━━━━━━\u001b[0m \u001b[32m3.1/3.1 MB\u001b[0m \u001b[31m18.3 MB/s\u001b[0m eta \u001b[36m0:00:00\u001b[0m\n",
      "\u001b[?25hUsing cached pyparsing-3.2.1-py3-none-any.whl (107 kB)\n",
      "Installing collected packages: pyparsing, pillow, kiwisolver, fonttools, cycler, contourpy, matplotlib\n",
      "Successfully installed contourpy-1.3.1 cycler-0.12.1 fonttools-4.55.3 kiwisolver-1.4.8 matplotlib-3.10.0 pillow-11.1.0 pyparsing-3.2.1\n"
     ]
    }
   ],
   "source": [
    "!pip install matplotlib"
   ]
  },
  {
   "cell_type": "code",
   "execution_count": 31,
   "metadata": {},
   "outputs": [
    {
     "data": {
      "text/plain": [
       "[<matplotlib.lines.Line2D at 0x1280ee2f0>]"
      ]
     },
     "execution_count": 31,
     "metadata": {},
     "output_type": "execute_result"
    },
    {
     "data": {
      "image/png": "[encoded data removed]",
      "text/plain": [
       "<Figure size 640x480 with 1 Axes>"
      ]
     },
     "metadata": {},
     "output_type": "display_data"
    }
   ],
   "source": [
    "import matplotlib.pyplot as plt\n",
    "x = [10,20,30]\n",
    "y = [30,40,50]\n",
    "plt.plot(x,y)"
   ]
  },
  {
   "cell_type": "code",
   "execution_count": 32,
   "metadata": {},
   "outputs": [
    {
     "data": {
      "image/png": "[encoded data removed]",
      "text/plain": [
       "<Figure size 640x480 with 1 Axes>"
      ]
     },
     "metadata": {},
     "output_type": "display_data"
    }
   ],
   "source": [
    "\n",
    "for cur_item_name in dict_item_name:\n",
    "    cur_df = sale_item_df[sale_item_df[\"item_name\"] == cur_item_name]\n",
    "    \n",
    "    x = list(set(cur_df[\"created_date\"].to_numpy()))\n",
    "    # ['21-06-2024', '15-06-2024', '01-07-2024']\n",
    "    # ['10-07-2024', '21-06-2024']\n",
    "    # ['10-07-2024', '21-06-2024', '01-07-2024']\n",
    "    y = []\n",
    "    for cur_x in x:\n",
    "        temp_y = cur_df[cur_df[\"created_date\"] == cur_x][\"profit\"].to_numpy()\n",
    "        y.append(np.sum(temp_y))\n",
    "    # print(cur_item_name)\n",
    "    # print(x)\n",
    "    # print(y)\n",
    "    plt.plot(x,y)\n",
    "plt.show()\n"
   ]
  },
  {
   "cell_type": "code",
   "execution_count": null,
   "metadata": {},
   "outputs": [],
   "source": [
    "# super_coffee\n",
    "# ['21-06-2024', '15-06-2024', '01-07-2024']\n",
    "# [np.int64(400), np.int64(400), np.int64(400)]\n",
    "# hsu_coffee\n",
    "# ['10-07-2024', '21-06-2024']\n",
    "# [np.int64(500), np.int64(250)]\n",
    "# sunday_coffee\n",
    "# ['10-07-2024', '21-06-2024', '01-07-2024']\n",
    "# [np.int64(450), np.int64(450), np.int64(450)]"
   ]
  }
 ],
 "metadata": {
  "kernelspec": {
   "display_name": "dev_env",
   "language": "python",
   "name": "python3"
  },
  "language_info": {
   "codemirror_mode": {
    "name": "ipython",
    "version": 3
   },
   "file_extension": ".py",
   "mimetype": "text/x-python",
   "name": "python",
   "nbconvert_exporter": "python",
   "pygments_lexer": "ipython3",
   "version": "3.10.16"
  }
 },
 "nbformat": 4,
 "nbformat_minor": 2
}
